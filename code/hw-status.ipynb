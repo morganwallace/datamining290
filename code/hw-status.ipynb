{
 "metadata": {
  "name": ""
 },
 "nbformat": 3,
 "nbformat_minor": 0,
 "worksheets": [
  {
   "cells": [
    {
     "cell_type": "code",
     "collapsed": false,
     "input": [
      "#!/usr/bin/python\n",
      "\"\"\"This script can be used to analyze data in the 2012 Presidential Campaign,\n",
      "available from ftp://ftp.fec.gov/FEC/2012/pas212.zip - data dictionary is at\n",
      "http://www.fec.gov/finance/disclosure/metadata/DataDictionaryContributionstoCandidates.shtml\n",
      "\"\"\"\n",
      "\n",
      "import fileinput\n",
      "import csv\n",
      "\n",
      "#Added imports to make calculations with standard libraries\n",
      "from numpy import std,sqrt,average,median"
     ],
     "language": "python",
     "metadata": {},
     "outputs": [],
     "prompt_number": 1
    },
    {
     "cell_type": "code",
     "collapsed": false,
     "input": [
      "#Replaced with a list comprehension that saves amounts to an array for easy calculation\n",
      "amounts= [float(i[14]) for i in csv.reader(fileinput.input(\"itpas2.txt\"), delimiter='|')]\n",
      "total = sum(amounts)\n",
      "min1 = min (amounts)\n",
      "max1 = max (amounts)\n",
      "mean = average(amounts)\n",
      "median = median(amounts)\n",
      "sd = std(amounts)\n",
      "\n",
      "candidates = []\n",
      "for row in csv.reader(fileinput.input(\"itpas2.txt\"), delimiter='|'):\n",
      "    if row[16] not in candidates:\n",
      "        candidates.append(row[16])\n",
      "#######\n",
      "#  UNUSED FROM ORIGINAL\n",
      "#\n",
      "#######\n",
      "#     if not fileinput.isfirstline(): This actually has data not column labels so I'm including it\n",
      "#         total += float(row[14])\n",
      "#         print row\n",
      "        ###\n",
      "        # TODO: calculate other statistics here\n",
      "        # You may need to store numbers in an array to access them together\n",
      "        ##"
     ],
     "language": "python",
     "metadata": {},
     "outputs": [],
     "prompt_number": 2
    },
    {
     "cell_type": "code",
     "collapsed": false,
     "input": [
      "-207732.0 in amounts"
     ],
     "language": "python",
     "metadata": {},
     "outputs": [
      {
       "metadata": {},
       "output_type": "pyout",
       "prompt_number": 13,
       "text": [
        "True"
       ]
      }
     ],
     "prompt_number": 13
    },
    {
     "cell_type": "code",
     "collapsed": false,
     "input": [
      "negs = [i for i in amounts if i <0]\n",
      "len(negs)"
     ],
     "language": "python",
     "metadata": {},
     "outputs": [
      {
       "metadata": {},
       "output_type": "pyout",
       "prompt_number": 19,
       "text": [
        "6948"
       ]
      }
     ],
     "prompt_number": 19
    },
    {
     "cell_type": "code",
     "collapsed": false,
     "input": [
      "##### Print out the stats\n",
      "print \"Total: %s\" % total\n",
      "print \"Minimum: %s\" % min1\n",
      "print \"Maximum: %s\" % max1\n",
      "print \"Mean: %s\" %mean\n",
      "print \"Median: %s\" %median\n",
      "print \"Standard Deviation: %s\" % sd\n",
      "\n",
      "##### Comma separated list of unique candidate ID numbers\n",
      "# print \"Candidates: %s\" % candidates"
     ],
     "language": "python",
     "metadata": {},
     "outputs": [
      {
       "output_type": "stream",
       "stream": "stdout",
       "text": [
        "Total: 1848774678.0\n",
        "Minimum: -207732.0\n",
        "Maximum: 9856374.0\n",
        "Mean: 4665.465488\n",
        "Median: 1000.0\n",
        "Standard Deviation: 77853.6051112\n"
       ]
      }
     ],
     "prompt_number": 12
    },
    {
     "cell_type": "code",
     "collapsed": false,
     "input": [
      "def minmax_normalize(value):\n",
      "    \"\"\"Takes a donation amount and returns a normalized value between 0-1. The\n",
      "    normilzation should use the min and max amounts from the full dataset\"\"\"\n",
      "    ###\n",
      "    # TODO: replace line below with the actual calculations\n",
      "#     new_max = max(amounts+[value])\n",
      "#     new_min = min(amounts+[value])\n",
      "    norm = ((value - min1)/(max1 -min1))\n",
      "    ###/\n",
      "\n",
      "    return norm"
     ],
     "language": "python",
     "metadata": {},
     "outputs": [],
     "prompt_number": 9
    },
    {
     "cell_type": "code",
     "collapsed": false,
     "input": [
      "##### Normalize some sample values\n",
      "print \"Min-max normalized values: %r\" % map(minmax_normalize, [2500, 50, 250, 35, 8, 100, 19])"
     ],
     "language": "python",
     "metadata": {},
     "outputs": [
      {
       "output_type": "stream",
       "stream": "stdout",
       "text": [
        "Min-max normalized values: [0.020889287135886683, 0.02064584772855135, 0.020665720333231784, 0.020644357283200316, 0.020641674481568457, 0.02065081587972146, 0.020642767474825883]\n"
       ]
      }
     ],
     "prompt_number": 10
    },
    {
     "cell_type": "code",
     "collapsed": false,
     "input": [
      "len(amounts+[2])"
     ],
     "language": "python",
     "metadata": {},
     "outputs": [
      {
       "metadata": {},
       "output_type": "pyout",
       "prompt_number": 6,
       "text": [
        "396269"
       ]
      }
     ],
     "prompt_number": 6
    },
    {
     "cell_type": "code",
     "collapsed": false,
     "input": [],
     "language": "python",
     "metadata": {},
     "outputs": []
    }
   ],
   "metadata": {}
  }
 ]
}