{
 "metadata": {
  "name": ""
 },
 "nbformat": 3,
 "nbformat_minor": 0,
 "worksheets": [
  {
   "cells": [
    {
     "cell_type": "code",
     "collapsed": false,
     "input": [
      "#!/usr/bin/python\n",
      "\"\"\"This script can be used to analyze data in the 2012 Presidential Campaign,\n",
      "available from ftp://ftp.fec.gov/FEC/2012/pas212.zip - data dictionary is at\n",
      "http://www.fec.gov/finance/disclosure/metadata/DataDictionaryContributionstoCandidates.shtml\n",
      "\"\"\"\n",
      "from __future__ import division\n",
      "import fileinput\n",
      "import csv\n",
      "\n",
      "#Added imports to make calculations with standard libraries\n",
      "# from numpy import std,sqrt,average,median"
     ],
     "language": "python",
     "metadata": {},
     "outputs": [],
     "prompt_number": 15
    },
    {
     "cell_type": "code",
     "collapsed": false,
     "input": [
      "amounts= [float(i[14]) for i in csv.reader(fileinput.input(\"itpas2.txt\"), delimiter='|')]"
     ],
     "language": "python",
     "metadata": {},
     "outputs": [],
     "prompt_number": 16
    },
    {
     "cell_type": "code",
     "collapsed": false,
     "input": [
      "#get rid of negative amounts (refunds) and a positive record of equal magnitude.\n",
      "negs=[i for i in amounts if i<0]\n",
      "print len(amounts)\n",
      "print len(negs)"
     ],
     "language": "python",
     "metadata": {},
     "outputs": [
      {
       "output_type": "stream",
       "stream": "stdout",
       "text": [
        "396268\n",
        "6948\n"
       ]
      }
     ],
     "prompt_number": 17
    },
    {
     "cell_type": "code",
     "collapsed": false,
     "input": [
      "#Get rid of the refunds and their positive counter parts\n",
      "#In a couple dozen cases, the negative amounts do not have an\n",
      "# exact matching positive amount. Those negatives are still removed,\n",
      "# leaving extra positives that skew the data but hopefully not by much.\n",
      "\n",
      "while len(negs)>0:\n",
      "    n=negs.pop()\n",
      "    del amounts[amounts.index(n)]\n",
      "    try:\n",
      "        del amounts[amounts.index(n*-1)]\n",
      "    except:\n",
      "        print str(n) + \" does not have a positive counterpart\""
     ],
     "language": "python",
     "metadata": {},
     "outputs": [
      {
       "output_type": "stream",
       "stream": "stdout",
       "text": [
        "-5223.0 does not have a positive counterpart\n",
        "-44706.0 does not have a positive counterpart"
       ]
      },
      {
       "output_type": "stream",
       "stream": "stdout",
       "text": [
        "\n",
        "-6276.0 does not have a positive counterpart"
       ]
      },
      {
       "output_type": "stream",
       "stream": "stdout",
       "text": [
        "\n",
        "-14075.0 does not have a positive counterpart"
       ]
      },
      {
       "output_type": "stream",
       "stream": "stdout",
       "text": [
        "\n",
        "-36504.0 does not have a positive counterpart"
       ]
      },
      {
       "output_type": "stream",
       "stream": "stdout",
       "text": [
        "\n",
        "-11320.0 does not have a positive counterpart"
       ]
      },
      {
       "output_type": "stream",
       "stream": "stdout",
       "text": [
        "\n",
        "-12765.0 does not have a positive counterpart\n",
        "-12562.0 does not have a positive counterpart\n",
        "-8214.0 does not have a positive counterpart"
       ]
      },
      {
       "output_type": "stream",
       "stream": "stdout",
       "text": [
        "\n",
        "-2826.0 does not have a positive counterpart"
       ]
      },
      {
       "output_type": "stream",
       "stream": "stdout",
       "text": [
        "\n",
        "-9137.0 does not have a positive counterpart"
       ]
      },
      {
       "output_type": "stream",
       "stream": "stdout",
       "text": [
        "\n",
        "-5746.0 does not have a positive counterpart"
       ]
      },
      {
       "output_type": "stream",
       "stream": "stdout",
       "text": [
        "\n",
        "-5689.0 does not have a positive counterpart"
       ]
      },
      {
       "output_type": "stream",
       "stream": "stdout",
       "text": [
        "\n",
        "-8852.0 does not have a positive counterpart"
       ]
      },
      {
       "output_type": "stream",
       "stream": "stdout",
       "text": [
        "\n",
        "-3069.0 does not have a positive counterpart"
       ]
      },
      {
       "output_type": "stream",
       "stream": "stdout",
       "text": [
        "\n",
        "-13458.0 does not have a positive counterpart"
       ]
      },
      {
       "output_type": "stream",
       "stream": "stdout",
       "text": [
        "\n",
        "-5232.0 does not have a positive counterpart"
       ]
      },
      {
       "output_type": "stream",
       "stream": "stdout",
       "text": [
        "\n",
        "-1488.0 does not have a positive counterpart"
       ]
      },
      {
       "output_type": "stream",
       "stream": "stdout",
       "text": [
        "\n",
        "-7904.0 does not have a positive counterpart"
       ]
      },
      {
       "output_type": "stream",
       "stream": "stdout",
       "text": [
        "\n",
        "-3795.0 does not have a positive counterpart"
       ]
      },
      {
       "output_type": "stream",
       "stream": "stdout",
       "text": [
        "\n",
        "-207732.0 does not have a positive counterpart"
       ]
      },
      {
       "output_type": "stream",
       "stream": "stdout",
       "text": [
        "\n",
        "-6275.0 does not have a positive counterpart"
       ]
      },
      {
       "output_type": "stream",
       "stream": "stdout",
       "text": [
        "\n",
        "-5612.0 does not have a positive counterpart\n",
        "-66310.0 does not have a positive counterpart"
       ]
      },
      {
       "output_type": "stream",
       "stream": "stdout",
       "text": [
        "\n",
        "-2001.0 does not have a positive counterpart"
       ]
      },
      {
       "output_type": "stream",
       "stream": "stdout",
       "text": [
        "\n",
        "-9457.0 does not have a positive counterpart\n",
        "-728.0 does not have a positive counterpart"
       ]
      },
      {
       "output_type": "stream",
       "stream": "stdout",
       "text": [
        "\n",
        "-728.0 does not have a positive counterpart"
       ]
      },
      {
       "output_type": "stream",
       "stream": "stdout",
       "text": [
        "\n",
        "-23360.0 does not have a positive counterpart"
       ]
      },
      {
       "output_type": "stream",
       "stream": "stdout",
       "text": [
        "\n",
        "-1879.0 does not have a positive counterpart\n",
        "-21209.0 does not have a positive counterpart\n",
        "-2260.0 does not have a positive counterpart\n",
        "-2260.0 does not have a positive counterpart"
       ]
      },
      {
       "output_type": "stream",
       "stream": "stdout",
       "text": [
        "\n",
        "-7642.0 does not have a positive counterpart"
       ]
      },
      {
       "output_type": "stream",
       "stream": "stdout",
       "text": [
        "\n",
        "-3960.0 does not have a positive counterpart"
       ]
      },
      {
       "output_type": "stream",
       "stream": "stdout",
       "text": [
        "\n",
        "-8627.0 does not have a positive counterpart"
       ]
      },
      {
       "output_type": "stream",
       "stream": "stdout",
       "text": [
        "\n",
        "-93555.0 does not have a positive counterpart"
       ]
      },
      {
       "output_type": "stream",
       "stream": "stdout",
       "text": [
        "\n",
        "-30170.0 does not have a positive counterpart"
       ]
      },
      {
       "output_type": "stream",
       "stream": "stdout",
       "text": [
        "\n",
        "-8195.0 does not have a positive counterpart\n"
       ]
      }
     ],
     "prompt_number": 19
    },
    {
     "cell_type": "code",
     "collapsed": false,
     "input": [
      "len(amounts)"
     ],
     "language": "python",
     "metadata": {},
     "outputs": [
      {
       "metadata": {},
       "output_type": "pyout",
       "prompt_number": 20,
       "text": [
        "382411"
       ]
      }
     ],
     "prompt_number": 20
    },
    {
     "cell_type": "code",
     "collapsed": false,
     "input": [
      "total = sum(amounts)\n",
      "min1 = min (amounts)\n",
      "max1 = max (amounts)"
     ],
     "language": "python",
     "metadata": {},
     "outputs": [],
     "prompt_number": 21
    },
    {
     "cell_type": "code",
     "collapsed": false,
     "input": [
      "def get_mean(l):\n",
      "    return sum(l)/len(l)\n",
      "mean = get_mean(amounts)"
     ],
     "language": "python",
     "metadata": {},
     "outputs": [],
     "prompt_number": 22
    },
    {
     "cell_type": "code",
     "collapsed": false,
     "input": [
      "def get_median(l):\n",
      "    l.sort()\n",
      "    if len(l)%2==1: #odd\n",
      "        i=int((len(l)-1)/2)\n",
      "        return l[i]\n",
      "    else: #even\n",
      "        i=int(len(l)/2)\n",
      "        i2=i-1\n",
      "        return (l[i]+l[i2])/2\n",
      "median=get_median(amounts)"
     ],
     "language": "python",
     "metadata": {},
     "outputs": [],
     "prompt_number": 23
    },
    {
     "cell_type": "code",
     "collapsed": false,
     "input": [
      "def get_sd(l):\n",
      "    squared_deviations=[(abs(i-mean))**2 for i in l]\n",
      "    sd=get_mean(squared_deviations)**.5\n",
      "    return sd\n",
      "sd = get_sd(amounts)"
     ],
     "language": "python",
     "metadata": {},
     "outputs": [],
     "prompt_number": 24
    },
    {
     "cell_type": "code",
     "collapsed": false,
     "input": [
      "candidates = []\n",
      "for row in csv.reader(fileinput.input(\"itpas2.txt\"), delimiter='|'):\n",
      "    if row[16] not in candidates:\n",
      "        candidates.append(row[16])"
     ],
     "language": "python",
     "metadata": {},
     "outputs": [],
     "prompt_number": 25
    },
    {
     "cell_type": "code",
     "collapsed": false,
     "input": [
      "##### Print out the stats\n",
      "print \"Total: %s\" % total\n",
      "print \"Minimum: %s\" % min1\n",
      "print \"Maximum: %s\" % max1\n",
      "print \"Mean: %s\" %mean\n",
      "print \"Median: %s\" %median\n",
      "print \"Standard Deviation: %s\" % sd\n",
      "\n",
      "##### Comma separated list of unique candidate ID numbers\n",
      "# print \"Candidates: %s\" % candidates"
     ],
     "language": "python",
     "metadata": {},
     "outputs": [
      {
       "output_type": "stream",
       "stream": "stdout",
       "text": [
        "Total: 1849495479.0\n",
        "Minimum: 0.0\n",
        "Maximum: 9856374.0\n",
        "Mean: 4836.4076321\n",
        "Median: 1000.0\n",
        "Standard Deviation: 79243.7930582\n"
       ]
      }
     ],
     "prompt_number": 26
    },
    {
     "cell_type": "code",
     "collapsed": false,
     "input": [
      "def minmax_normalize(value):\n",
      "    \"\"\"Takes a donation amount and returns a normalized value between 0-1. The\n",
      "    normilzation should use the min and max amounts from the full dataset\"\"\"\n",
      "    ###\n",
      "    # TODO: replace line below with the actual calculations\n",
      "#     new_max = max(amounts+[value])\n",
      "#     new_min = min(amounts+[value])\n",
      "    norm = ((value - min1)/(max1 -min1))\n",
      "    ###/\n",
      "\n",
      "    return norm"
     ],
     "language": "python",
     "metadata": {},
     "outputs": [],
     "prompt_number": 27
    },
    {
     "cell_type": "code",
     "collapsed": false,
     "input": [
      "##### Normalize some sample values\n",
      "print \"Min-max normalized values: %r\" % map(minmax_normalize, [2500, 50, 250, 35, 8, 100, 19])"
     ],
     "language": "python",
     "metadata": {},
     "outputs": [
      {
       "output_type": "stream",
       "stream": "stdout",
       "text": [
        "Min-max normalized values: [0.0002536429725576566, 5.072859451153132e-06, 2.536429725576566e-05, 3.5510016158071923e-06, 8.116575121845011e-07, 1.0145718902306265e-05, 1.92768659143819e-06]\n"
       ]
      }
     ],
     "prompt_number": 29
    }
   ],
   "metadata": {}
  }
 ]
}