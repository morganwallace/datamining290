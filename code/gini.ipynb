{
 "metadata": {
  "name": ""
 },
 "nbformat": 3,
 "nbformat_minor": 0,
 "worksheets": [
  {
   "cells": [
    {
     "cell_type": "code",
     "collapsed": false,
     "input": [
      "#!/usr/bin/python\n",
      "from __future__ import division\n",
      "\"\"\"Script can be used to calculate the Gini Index of a column in a CSV file.\n",
      "Classes are strings.\"\"\"\n",
      "\n",
      "import fileinput\n",
      "import csv\n",
      "from collections import Counter, defaultdict"
     ],
     "language": "python",
     "metadata": {},
     "outputs": [],
     "prompt_number": 62
    },
    {
     "cell_type": "code",
     "collapsed": false,
     "input": [
      "(\n",
      "    CMTE_ID, AMNDT_IND, RPT_TP, TRANSACTION_PGI, IMAGE_NUM, TRANSACTION_TP,\n",
      "    ENTITY_TP, NAME, CITY, STATE, ZIP_CODE, EMPLOYER, OCCUPATION,\n",
      "    TRANSACTION_DT, TRANSACTION_AMT, OTHER_ID, CAND_ID, TRAN_ID, FILE_NUM,\n",
      "    MEMO_CD, MEMO_TEXT, SUB_ID\n",
      ") = range(22)\n",
      "CANDIDATES = {\n",
      "    'P80003338': 'Obama',\n",
      "    'P80003353': 'Romney',\n",
      "}"
     ],
     "language": "python",
     "metadata": {},
     "outputs": [],
     "prompt_number": 37
    },
    {
     "cell_type": "code",
     "collapsed": false,
     "input": [
      "############### Set up variables\n",
      "# TODO: declare datastructures\n",
      "data=defaultdict(list)"
     ],
     "language": "python",
     "metadata": {},
     "outputs": [],
     "prompt_number": 38
    },
    {
     "cell_type": "code",
     "collapsed": false,
     "input": [
      "#So I can run in ipython notebook and not always from command line.\n",
      "if fileinput.input().filename():\n",
      "    input_file=fileinput.input()\n",
      "else:\n",
      "    input_file=open(\"itpas.txt\")\n",
      "csv_file=csv.reader(input_file,delimiter='|')"
     ],
     "language": "python",
     "metadata": {},
     "outputs": [],
     "prompt_number": 40
    },
    {
     "cell_type": "code",
     "collapsed": false,
     "input": [
      "############### Read through files\n",
      "for row in csv_file:\n",
      "    candidate_id = row[CAND_ID]\n",
      "    if candidate_id not in CANDIDATES:\n",
      "        continue\n",
      "\n",
      "    candidate_name = CANDIDATES[candidate_id]\n",
      "    zip_code = row[ZIP_CODE]\n",
      "    data[candidate_name].append(zip_code)\n",
      "    \n",
      "    ###\n",
      "    # TODO: save information to calculate Gini Index\n",
      "    ##/"
     ],
     "language": "python",
     "metadata": {},
     "outputs": [],
     "prompt_number": 47
    },
    {
     "cell_type": "code",
     "collapsed": false,
     "input": [
      "#Make counter objects for counting zip codes for each candidate \n",
      "romney=Counter()\n",
      "romney.update(data['Romney'])\n",
      "obama=Counter()\n",
      "obama.update(data['Obama'])"
     ],
     "language": "python",
     "metadata": {},
     "outputs": []
    },
    {
     "cell_type": "code",
     "collapsed": false,
     "input": [
      "#make sure to get all the zip codes\n",
      "zip_codes=[]\n",
      "for i in data:\n",
      "    for z in data[i]:\n",
      "        if len(z)>=5:\n",
      "            zip_codes.append(z)\n",
      "zip_codes=set(zip_codes)"
     ],
     "language": "python",
     "metadata": {},
     "outputs": [],
     "prompt_number": 74
    },
    {
     "cell_type": "code",
     "collapsed": false,
     "input": [
      "#Calculate the Gini index for each zip code\n",
      "ginis=defaultdict(list)\n",
      "for z in zip_codes:\n",
      "    r=romney[z]\n",
      "    o=obama[z]\n",
      "    total=r+o\n",
      "    ginis[z].append(1-((r/total)**2+(o/total)**2))\n"
     ],
     "language": "python",
     "metadata": {},
     "outputs": [],
     "prompt_number": 77
    },
    {
     "cell_type": "code",
     "collapsed": false,
     "input": [
      "total_transactions=len(data[\"Romney\"])+len(data[\"Obama\"])"
     ],
     "language": "python",
     "metadata": {},
     "outputs": [],
     "prompt_number": 100
    },
    {
     "cell_type": "code",
     "collapsed": false,
     "input": [
      "gini=1-sum([(ginis[i][0]/total_transactions)**2 for i in ginis])"
     ],
     "language": "python",
     "metadata": {},
     "outputs": [],
     "prompt_number": 102
    },
    {
     "cell_type": "code",
     "collapsed": false,
     "input": [
      "weighted_gini=defaultdict(list)\n",
      "for g in ginis:\n",
      "    weight=(romney[g]+obama[g])/total_transactions\n",
      "#     print ginis[g][0]\n",
      "    weighted_gini[g].append(ginis[g][0]*weight)\n",
      "    "
     ],
     "language": "python",
     "metadata": {},
     "outputs": [],
     "prompt_number": 109
    },
    {
     "cell_type": "code",
     "collapsed": false,
     "input": [
      "split_gini=sum([weighted_gini[i][0] for i in weighted_gini])"
     ],
     "language": "python",
     "metadata": {},
     "outputs": [],
     "prompt_number": 110
    },
    {
     "cell_type": "code",
     "collapsed": false,
     "input": [
      "# TODO: calculate the values below:\n",
      "# gini = sum(i for i in data)  current Gini Index using candidate name as the class\n",
      "# split_gini = 0  weighted average of the Gini Indexes using candidate names, split up by zip code\n",
      "##/\n",
      "\n",
      "print \"Gini Index: %s\" % gini\n",
      "print \"Gini Index after split: %s\" % split_gini"
     ],
     "language": "python",
     "metadata": {},
     "outputs": [
      {
       "output_type": "stream",
       "stream": "stdout",
       "text": [
        "Gini Index: 0.999999946572\n",
        "Gini Index after split: 0.405518158605\n"
       ]
      }
     ],
     "prompt_number": 111
    },
    {
     "cell_type": "code",
     "collapsed": false,
     "input": [],
     "language": "python",
     "metadata": {},
     "outputs": [],
     "prompt_number": 106
    },
    {
     "cell_type": "code",
     "collapsed": false,
     "input": [],
     "language": "python",
     "metadata": {},
     "outputs": []
    }
   ],
   "metadata": {}
  }
 ]
}