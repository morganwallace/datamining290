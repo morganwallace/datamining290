{
 "metadata": {
  "name": ""
 },
 "nbformat": 3,
 "nbformat_minor": 0,
 "worksheets": [
  {
   "cells": [
    {
     "cell_type": "markdown",
     "metadata": {},
     "source": [
      "#K-means Homework\n",
      "###for Datamining Info 290T-3"
     ]
    },
    {
     "cell_type": "code",
     "collapsed": false,
     "input": [
      "from __future__ import division"
     ],
     "language": "python",
     "metadata": {},
     "outputs": [],
     "prompt_number": 209
    },
    {
     "cell_type": "code",
     "collapsed": false,
     "input": [
      "###\n",
      "# Implement simple k-means clustering using 1 dimensional data\n",
      "#\n",
      "##/\n",
      "\n",
      "dataset = [\n",
      "    -13.65089255716321, -0.5409562932238607, -88.4726466247223,\n",
      "    39.30158828358612, 4.066458182574449, 64.64143300482378,\n",
      "    38.68269424751338, 33.42013676314311, 31.18603331719732,\n",
      "    -0.2027616409406292, 45.13590038987272, 30.791899783552395,\n",
      "    61.1727490302448, 18.167220741624856, 88.88077709786394,\n",
      "    -1.3808002119514704, 50.14991362212521, 55.92029956281276,\n",
      "    -6.759813255299466, 34.28290084421072\n",
      "]\n",
      "\n",
      "k = 2  # number of clusters"
     ],
     "language": "python",
     "metadata": {},
     "outputs": [],
     "prompt_number": 210
    },
    {
     "cell_type": "code",
     "collapsed": false,
     "input": [
      "###\n",
      "# Helper functions\n",
      "# Fill in TODOs where needed\n",
      "##/\n",
      "\n",
      "def pick_centroids(xs, num):\n",
      "    \"\"\"Return list of num centroids given a list of numbers in xs\"\"\"\n",
      "    ###\n",
      "    # TODO select and return centroids\n",
      "    \n",
      "    # Sorting allows making subsets of similar values using slicing\n",
      "    xs.sort()\n",
      "    \n",
      "    #divider allows iteration to get different slices of the data\n",
      "    divider=len(xs)//num\n",
      "    \n",
      "\n",
      "    # Initialize dict for saving centroids\n",
      "    centroids={}\n",
      "\n",
      "    for i in range(num):\n",
      "        #if there an odd number of items in dataset add the last remaining item to the last subset\n",
      "        if len(xs)%2==1 and i+1==num:\n",
      "            subset=xs[divider*i:divider*(i+1)+1]\n",
      "        else: #Normal condition - not last iteration over an odd dataset\n",
      "            subset=xs[divider*i:divider*(i+1)]\n",
      "            \n",
      "        # save average of subset list as centroid\n",
      "        centroids[str(i)]=sum(subset)/len(subset)\n",
      "    return centroids.values()\n"
     ],
     "language": "python",
     "metadata": {},
     "outputs": [],
     "prompt_number": 211
    },
    {
     "cell_type": "code",
     "collapsed": false,
     "input": [
      "def distance(a, b):\n",
      "    \"\"\"Return the distance of numbers a and b\"\"\"\n",
      "    ###\n",
      "    # TODO return correct expression\n",
      "    return abs(a-b)\n",
      "    ##/"
     ],
     "language": "python",
     "metadata": {},
     "outputs": [],
     "prompt_number": 212
    },
    {
     "cell_type": "code",
     "collapsed": false,
     "input": [
      "def centroid(xs):\n",
      "    \"\"\"Return the centroid number given a list of numbers, xs\"\"\"\n",
      "    ###\n",
      "    # TODO calculate and return centroid\n",
      "    return sum(xs)/len(xs)\n",
      "    ##/"
     ],
     "language": "python",
     "metadata": {},
     "outputs": [],
     "prompt_number": 213
    },
    {
     "cell_type": "code",
     "collapsed": false,
     "input": [
      "def cluster(xs, centroids):\n",
      "    \"\"\"Return a list of clusters centered around the given centroids.  Clusters\n",
      "    are lists of numbers.\"\"\"\n",
      "\n",
      "    clusters = [[] for c in centroids]\n",
      "\n",
      "    for x in xs:\n",
      "        # find the closest cluster to x\n",
      "        dist, cluster_id = min(\n",
      "            (distance(x, c), cluster_id) for cluster_id, c in enumerate(centroids)\n",
      "        )\n",
      "        # place x in cluster\n",
      "        clusters[cluster_id].append(x)\n",
      "\n",
      "    return clusters"
     ],
     "language": "python",
     "metadata": {},
     "outputs": [],
     "prompt_number": 214
    },
    {
     "cell_type": "code",
     "collapsed": false,
     "input": [
      "def iterate_centroids(xs, centroids):\n",
      "    \"\"\"Return stable centroids given a dataset and initial centroids\"\"\"\n",
      "\n",
      "    err = 0.001  # minimum amount of allowed centroid movement\n",
      "    observed_error = 1  # Initialize: maxiumum amount of centroid movement\n",
      "    new_clusters = [[] for c in centroids]  # Initialize: clusters\n",
      "\n",
      "    while observed_error > err:\n",
      "        new_clusters = cluster(xs, centroids)\n",
      "#         print 'test'\n",
      "#         print xs\n",
      "        new_centroids = map(centroid, new_clusters)\n",
      "\n",
      "        observed_error = max(abs(new - old) for new, old in zip(new_centroids, centroids))\n",
      "        centroids = new_centroids\n",
      "\n",
      "    return (centroids, new_clusters)"
     ],
     "language": "python",
     "metadata": {},
     "outputs": [],
     "prompt_number": 215
    },
    {
     "cell_type": "code",
     "collapsed": false,
     "input": [
      "\n",
      "###\n",
      "# Main part of program:\n",
      "# Pick initial centroids\n",
      "# Iterative to find final centroids\n",
      "# Print results\n",
      "##/\n",
      "\n",
      "initial_centroids = pick_centroids(dataset, k)\n",
      "final_centroids, final_clusters = iterate_centroids(dataset, initial_centroids)\n",
      "\n",
      "for centroid, cluster in zip(final_centroids, final_clusters):\n",
      "    print \"Centroid: %s\" % centroid\n",
      "    print \"Cluster contents: %r\" % cluster\n"
     ],
     "language": "python",
     "metadata": {},
     "outputs": [
      {
       "output_type": "stream",
       "stream": "stdout",
       "text": [
        "Centroid: 47.7971938289\n",
        "Cluster contents: [30.791899783552395, 31.18603331719732, 33.42013676314311, 34.28290084421072, 38.68269424751338, 39.30158828358612, 45.13590038987272, 50.14991362212521, 55.92029956281276, 61.1727490302448, 64.64143300482378, 88.88077709786394]\n",
        "Centroid: -11.0967739574\n",
        "Cluster contents: [-88.4726466247223, -13.65089255716321, -6.759813255299466, -1.3808002119514704, -0.5409562932238607, -0.2027616409406292, 4.066458182574449, 18.167220741624856]\n"
       ]
      }
     ],
     "prompt_number": 216
    }
   ],
   "metadata": {}
  }
 ]
}